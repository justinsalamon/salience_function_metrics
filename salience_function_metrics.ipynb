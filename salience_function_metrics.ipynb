{
 "cells": [
  {
   "cell_type": "markdown",
   "metadata": {},
   "source": [
    "<h1>Salience Function Metrics</h1>\n",
    "\n",
    "This notebook shows how to compute the salience function metrics described in:\n",
    "\n",
    "* [1] J. Salamon, E. Gómez, and J. Bonada. Sinusoid extraction and salience function design for predominant melody estimation. In 14th Int. Conf. on Digital Audio Effects (DAFx-11), pages 73–80, Paris, France, Sep. 2011.\n",
    "\n",
    "The code is specifically written for evaluating the salience function returned by [Melodia](mtg.upf.edu/technologies/melodia) [2] or [Durrieu](https://github.com/wslihgt/IMMF0salience) [3], but could be adapted relatively easily to other salience functions.\n",
    "\n",
    "If you use code from this notebook, it would be awesome if you cited [1]. Thanks!\n",
    "\n",
    "For questions please contact me at: justin.salamon@nyu.edu\n",
    "\n",
    "[2] J. Salamon and E. Gómez. Melody extraction from polyphonic music signals using pitch contour charac- teristics. IEEE Transactions on Audio, Speech, and Language Processing, 20(6):1759–1770, Aug. 2012.\n",
    "\n",
    "[3] J.-L. Durrieu, B. David, and G. Richard. A musically motivated mid-level representation for pitch estimation and musical audio source separation. IEEE Journal on Selected Topics on Signal Processing, 5(6):1180–1191, Oct. 2011."
   ]
  },
  {
   "cell_type": "code",
   "execution_count": 1,
   "metadata": {
    "collapsed": true
   },
   "outputs": [],
   "source": [
    "# The usual imports :)\n",
    "import numpy as np\n",
    "import pandas as pd\n",
    "import matplotlib.pyplot as plt\n",
    "import seaborn as sns\n",
    "import mir_eval\n",
    "from scipy.signal import find_peaks_cwt\n",
    "from scipy.stats import ks_2samp\n",
    "%matplotlib inline"
   ]
  },
  {
   "cell_type": "code",
   "execution_count": 2,
   "metadata": {
    "collapsed": true
   },
   "outputs": [],
   "source": [
    "# Functions to convert from salience function bin to frequency (in Hz) and back.\n",
    "# In our case, both the Melodia and Durrieu functions start at 55 Hz (bin 0) and \n",
    "# were computed with a resolution of 10 bins per semitone (10 center per bin).\n",
    "\n",
    "def salbin2freq(bin):    \n",
    "    return 2**(bin/120.) * 55\n",
    "\n",
    "def freq2salbin(freq):\n",
    "    return 120*np.log2(freq/55.)"
   ]
  },
  {
   "cell_type": "code",
   "execution_count": 3,
   "metadata": {
    "collapsed": false
   },
   "outputs": [],
   "source": [
    "# Main function to compute the metrics for 1 excerpt\n",
    "def compute_salience_metrics(salience_file, gt_file, saltype='melodia'):\n",
    "    \"\"\"\n",
    "    Parameters\n",
    "    ----------\n",
    "    salience_file : str\n",
    "        Path to salience function data file. First column in file must be timestamps.\n",
    "    gt_file: str\n",
    "        Path to ground truth file. First column is timestamps, second is frequency in Hz.\n",
    "    saltype : str\n",
    "        'melodia' or 'durrieu'\n",
    "\n",
    "    Returns\n",
    "    -------\n",
    "    dfs : list of float\n",
    "        Per-frame df scores\n",
    "    rrs : list of float\n",
    "        Per-frame reciprocal rank scores\n",
    "    s1s : list of float\n",
    "        Per-frames S1 scores\n",
    "    s3s : list of float\n",
    "        Per-frame S3 scores\n",
    "    \n",
    "    \"\"\"\n",
    "    \n",
    "    # Setup\n",
    "    if saltype=='melodia':\n",
    "        sal_sep = ','\n",
    "        gt_sep = '\\t'\n",
    "    elif saltype=='durrieu':\n",
    "        sal_sep = r\"\\s*\"\n",
    "        gt_sep = '\\t'\n",
    "    \n",
    "    # Load salience and ground truth\n",
    "    salience = pd.read_csv(salience_file, header=None, sep=sal_sep, engine='python')\n",
    "    gt = pd.read_csv(gtfile, header=None, sep=gt_sep)\n",
    "    \n",
    "    # Convert ground truth to same time resolution as salience function\n",
    "    sal_timebase = salience.values[:,0]\n",
    "    sal = salience.values[:,1:]\n",
    "    gt_sal_freq, gt_sal_voicing = mir_eval.melody.resample_melody_series(\n",
    "        gt.values[:,0], gt.values[:,1], gt.values[:,1]>0, sal_timebase)\n",
    "    \n",
    "    # Initialize score lists\n",
    "    dfs = []\n",
    "    rrs = []\n",
    "    s1s = []\n",
    "    s3s = []\n",
    "    \n",
    "    for n, frame in enumerate(sal):\n",
    "            \n",
    "        # Metrics are only computed for frames where the melody is present!\n",
    "        if gt_sal_freq[n] > 0:\n",
    "            \n",
    "            # Get all salience peak locations and values\n",
    "            plocs = find_peaks_cwt(frame, np.arange(3,10))\n",
    "            pvals = frame[plocs]\n",
    "            \n",
    "            # Must be at least 1 salience peak to compute metrics for the frame\n",
    "            if len(plocs) > 0:\n",
    "\n",
    "                # Find melody peak (closest to gt freq)\n",
    "                diffs = np.abs(np.asarray(plocs) - freq2salbin(gt_sal_freq[n]))\n",
    "                closest_bin = plocs[np.argmin(diffs)]\n",
    "                closest_freq = salbin2freq(closest_bin)\n",
    "\n",
    "                # Compute freq distance in cents\n",
    "                dfs.append(np.abs(1200*np.log2(closest_freq/gt_sal_freq[n])))\n",
    "\n",
    "                # Compute reciprocal rank\n",
    "                closest_val = frame[closest_bin]\n",
    "                order = np.argsort(pvals)\n",
    "                pvals_sorted = pvals[order]\n",
    "                rank = len(pvals) - np.where(pvals_sorted==closest_val)[0][0]\n",
    "                rr = 1/float(rank)\n",
    "                rrs.append(rr)\n",
    "\n",
    "                # Compute S1 and S3\n",
    "                s1 = closest_val / np.max(pvals)\n",
    "                if len(pvals_sorted) >= 3:\n",
    "                    s3 = closest_val / np.mean(pvals_sorted[-3:])\n",
    "                else:\n",
    "                    s3 = closest_val / np.mean(pvals_sorted)\n",
    "                s1s.append(s1)\n",
    "                s3s.append(s3)\n",
    "\n",
    "    return dfs, rrs, s1s, s3s"
   ]
  },
  {
   "cell_type": "markdown",
   "metadata": {},
   "source": [
    "<h2>Example Use</h2>"
   ]
  },
  {
   "cell_type": "code",
   "execution_count": 4,
   "metadata": {
    "collapsed": false
   },
   "outputs": [],
   "source": [
    "# Define path to Melodia and Durrieu salience functions and correpsonding ground truth file\n",
    "melodiafile = ('/Users/justin/datasets/saliencefunctions/sample/melodia-salience/'\n",
    "               'Beethoven-S3-I-ex1_vamp_melodia-salience_melodia-salience_saliencefunction.csv')\n",
    "durrieufile = '/Users/justin/datasets/saliencefunctions/sample/durrieu-salience/Beethoven-S3-I-ex1.Msal'\n",
    "gtfile = '/Users/justin/datasets/saliencefunctions/sample/GT/Beethoven-S3-I-ex1.mel'"
   ]
  },
  {
   "cell_type": "code",
   "execution_count": 5,
   "metadata": {
    "collapsed": false
   },
   "outputs": [],
   "source": [
    "Mdfs, Mrrs, Ms1s, Ms3s = compute_salience_metrics(melodiafile, gtfile, saltype='melodia')"
   ]
  },
  {
   "cell_type": "code",
   "execution_count": 6,
   "metadata": {
    "collapsed": false
   },
   "outputs": [],
   "source": [
    "Ddfs, Drrs, Ds1s, Ds3s = compute_salience_metrics(durrieufile, gtfile, saltype='durrieu')"
   ]
  },
  {
   "cell_type": "markdown",
   "metadata": {},
   "source": [
    "Let's compare the results on this excerpt for the two salience functions:"
   ]
  },
  {
   "cell_type": "code",
   "execution_count": 7,
   "metadata": {
    "collapsed": false
   },
   "outputs": [
    {
     "data": {
      "image/png": "[encoded data removed]",
      "text/plain": [
       "<matplotlib.figure.Figure at 0x11c2a7110>"
      ]
     },
     "metadata": {},
     "output_type": "display_data"
    }
   ],
   "source": [
    "fig = plt.figure(figsize=(10,8))\n",
    "\n",
    "ax = fig.add_subplot(221)\n",
    "sns.boxplot([Mdfs, Ddfs], )\n",
    "ax.set_xticklabels(['Melodia', 'Durrieu'])\n",
    "plt.ylabel('df (cents)')\n",
    "\n",
    "ax = fig.add_subplot(222)\n",
    "sns.boxplot([Mrrs, Drrs], )\n",
    "ax.set_xticklabels(['Melodia', 'Durrieu'])\n",
    "plt.ylabel('Reciprical Rank')\n",
    "\n",
    "ax = fig.add_subplot(223)\n",
    "sns.boxplot([Ms1s, Ds1s], )\n",
    "ax.set_xticklabels(['Melodia', 'Durrieu'])\n",
    "plt.ylabel('S1')\n",
    "\n",
    "ax = fig.add_subplot(224)\n",
    "sns.boxplot([Ms3s, Ds3s], )\n",
    "ax.set_xticklabels(['Melodia', 'Durrieu'])\n",
    "plt.ylabel('S3')\n",
    "\n",
    "plt.show()"
   ]
  },
  {
   "cell_type": "markdown",
   "metadata": {},
   "source": [
    "Note that if you are evaluating on a dataset of multiple songs/excerpts, rather than comparing the results on a per-excerpt basis like above, it makes more sense to affregate all the results for evaluation."
   ]
  }
 ],
 "metadata": {
  "kernelspec": {
   "display_name": "Python 2",
   "language": "python",
   "name": "python2"
  },
  "language_info": {
   "codemirror_mode": {
    "name": "ipython",
    "version": 2
   },
   "file_extension": ".py",
   "mimetype": "text/x-python",
   "name": "python",
   "nbconvert_exporter": "python",
   "pygments_lexer": "ipython2",
   "version": "2.7.8"
  }
 },
 "nbformat": 4,
 "nbformat_minor": 0
}
